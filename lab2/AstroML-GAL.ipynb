{
 "cells": [
  {
   "cell_type": "markdown",
   "metadata": {},
   "source": [
    "## Clasificación morfológica de galaxias a partir de la selección de features"
   ]
  },
  {
   "cell_type": "code",
   "execution_count": 21,
   "metadata": {},
   "outputs": [],
   "source": [
    "import numpy as np\n",
    "%matplotlib inline\n",
    "\n",
    "\n",
    "# Llamado a la libreria pandas\n"
   ]
  },
  {
   "cell_type": "markdown",
   "metadata": {},
   "source": [
    "Función para partir los datos en training y testing:"
   ]
  },
  {
   "cell_type": "code",
   "execution_count": 2,
   "metadata": {},
   "outputs": [
    {
     "name": "stdout",
     "output_type": "stream",
     "text": [
      "Number data galaxies: 780\n",
      "Train fraction: 0.7\n",
      "Number of galaxies in training set: 546\n",
      "Number of galaxies in testing set: 234\n"
     ]
    }
   ],
   "source": [
    "def splitdata_train_test(data, fraction_training):\n",
    "  # complete this function\n",
    "  np.random.shuffle(data)\n",
    "  split_index = int(fraction_training*len(data))\n",
    "  return data[:split_index], data[split_index:]\n",
    "\n",
    "data = np.load('galaxy_catalogue.npy')\n",
    "\n",
    "# set the fraction of data which should be in the training set\n",
    "fraction_training = 0.7\n",
    "\n",
    "# split the data using your function\n",
    "training, testing = splitdata_train_test(data, fraction_training)\n",
    "\n",
    "# print the key values\n",
    "print('Number data galaxies:', len(data))\n",
    "print('Train fraction:', fraction_training)\n",
    "print('Number of galaxies in training set:', len(training))\n",
    "print('Number of galaxies in testing set:', len(testing))"
   ]
  },
  {
   "cell_type": "markdown",
   "metadata": {},
   "source": [
    "Una mirada a los datos:"
   ]
  },
  {
   "cell_type": "code",
   "execution_count": 27,
   "metadata": {},
   "outputs": [],
   "source": [
    "# Desplegar los datos (data)\n",
    "\n"
   ]
  },
  {
   "cell_type": "markdown",
   "metadata": {},
   "source": [
    "Una mejor visualización con PANDAS"
   ]
  },
  {
   "cell_type": "code",
   "execution_count": 4,
   "metadata": {},
   "outputs": [],
   "source": [
    "# generacion de dataframe\n"
   ]
  },
  {
   "cell_type": "code",
   "execution_count": 26,
   "metadata": {},
   "outputs": [],
   "source": [
    "# Despliege de dataframe\n"
   ]
  },
  {
   "cell_type": "markdown",
   "metadata": {},
   "source": [
    "Función para generar los features y targets:"
   ]
  },
  {
   "cell_type": "code",
   "execution_count": 6,
   "metadata": {},
   "outputs": [
    {
     "name": "stdout",
     "output_type": "stream",
     "text": [
      "Features shape: (780, 13)\n",
      "Targets shape: (780,)\n"
     ]
    }
   ],
   "source": [
    "def generate_features_targets(data):\n",
    "  # complete the function by calculating the concentrations\n",
    "\n",
    "  targets = data['class']\n",
    "\n",
    "  features = np.empty(shape=(len(data), 13))\n",
    "  features[:, 0] = data['u-g']\n",
    "  features[:, 1] = data['g-r']\n",
    "  features[:, 2] = data['r-i']\n",
    "  features[:, 3] = data['i-z']\n",
    "  features[:, 4] = data['ecc']\n",
    "  features[:, 5] = data['m4_u']\n",
    "  features[:, 6] = data['m4_g']\n",
    "  features[:, 7] = data['m4_r']\n",
    "  features[:, 8] = data['m4_i']\n",
    "  features[:, 9] = data['m4_z']\n",
    "\n",
    "  # fill the remaining 3 columns with concentrations in the u, r and z filters\n",
    "  # concentration in u filter\n",
    "  features[:, 10] = data['petroR50_u']/data['petroR90_u']\n",
    "  # concentration in r filter\n",
    "  features[:, 11] = data['petroR50_r']/data['petroR90_r']\n",
    "  # concentration in z filter\n",
    "  features[:, 12] = data['petroR50_z']/data['petroR90_z']\n",
    "\n",
    "  return features, targets\n",
    "\n",
    "\n",
    "data = np.load('galaxy_catalogue.npy')\n",
    "\n",
    "features, targets = generate_features_targets(data)\n",
    "\n",
    "# Print the shape of each array to check the arrays are the correct dimensions. \n",
    "print(\"Features shape:\", features.shape)\n",
    "print(\"Targets shape:\", targets.shape)"
   ]
  },
  {
   "cell_type": "markdown",
   "metadata": {},
   "source": [
    "Primera aproximación para predecir usando árboles de decisión: "
   ]
  },
  {
   "cell_type": "code",
   "execution_count": 7,
   "metadata": {},
   "outputs": [
    {
     "name": "stdout",
     "output_type": "stream",
     "text": [
      "Some initial results...\n",
      "   predicted,  actual\n",
      "0. merger, merger\n",
      "1. elliptical, elliptical\n",
      "2. spiral, spiral\n",
      "3. spiral, spiral\n",
      "4. spiral, spiral\n",
      "5. merger, spiral\n",
      "6. spiral, spiral\n",
      "7. spiral, spiral\n",
      "8. merger, spiral\n",
      "9. merger, merger\n"
     ]
    }
   ],
   "source": [
    "# Llamado de DecisionTreeClassifier\n",
    "\n",
    "\n",
    "\n",
    "# complete this function by splitting the data set and training a decision tree classifier\n",
    "def dtc_predict_actual(data):\n",
    "  # split the data into training and testing sets using a training fraction of 0.7\n",
    "  train, test = splitdata_train_test(data, 0.7)\n",
    "\n",
    "  # generate the feature and targets for the training and test sets\n",
    "  # i.e. train_features, train_targets, test_features, test_targets\n",
    "  train_features, train_targets = generate_features_targets(train)\n",
    "  test_features, test_targets = generate_features_targets(test)\n",
    "\n",
    "  # instanciar el decision tree classifier\n",
    "  dtc = \n",
    "\n",
    "  # train the classifier with the train_features and train_targets\n",
    "  dtc.fit(train_features, train_targets)\n",
    "\n",
    "  # get predictions for the test_features\n",
    "  predictions = dtc.predict(test_features)\n",
    "\n",
    "  # return the predictions and the test_targets\n",
    "  return predictions, test_targets\n",
    "\n",
    "\n",
    "data = np.load('galaxy_catalogue.npy')\n",
    "    \n",
    "#ejecucion de de la funcion de prediccion    \n",
    "predicted_class, actual_class = \n",
    "\n",
    "# Print some of the initial results\n",
    "print(\"Some initial results...\\n   predicted,  actual\")\n",
    "for i in range(10):\n",
    "    print(\"{}. {}, {}\".format(i, predicted_class[i], actual_class[i]))"
   ]
  },
  {
   "cell_type": "markdown",
   "metadata": {},
   "source": [
    "Importación de librerías..."
   ]
  },
  {
   "cell_type": "code",
   "execution_count": 8,
   "metadata": {},
   "outputs": [],
   "source": [
    "from matplotlib import pyplot as plt\n",
    "from sklearn.metrics import confusion_matrix\n",
    "from sklearn.model_selection import cross_val_predict\n",
    "import itertools\n",
    "from matplotlib import pyplot as plt\n",
    "plt.style.use('ggplot')"
   ]
  },
  {
   "cell_type": "markdown",
   "metadata": {},
   "source": [
    "Función de Matriz de Confusión..."
   ]
  },
  {
   "cell_type": "code",
   "execution_count": 10,
   "metadata": {},
   "outputs": [],
   "source": [
    "def plot_confusion_matrix(cm, classes, normalize=False, title='Confusion matrix', cmap=plt.cm.Reds):\n",
    "    \n",
    "    \"\"\"\n",
    "    This function prints and plots the confusion matrix.\n",
    "    Normalization can be applied by setting `normalize=True`.\n",
    "    \"\"\"\n",
    "    \n",
    "    plt.imshow(cm, interpolation='nearest', cmap=cmap)\n",
    "    plt.title(title)\n",
    "    plt.colorbar()\n",
    "    tick_marks = np.arange(len(classes))\n",
    "    plt.xticks(tick_marks, classes, rotation=45)\n",
    "    plt.yticks(tick_marks, classes)\n",
    "\n",
    "    if normalize:\n",
    "        cm = cm.astype('float') / cm.sum(axis=1)[:, np.newaxis]\n",
    "        print(\"Normalized confusion matrix\")\n",
    "    else:\n",
    "        print('Confusion matrix, without normalization')\n",
    "\n",
    "    print(cm)\n",
    "\n",
    "    thresh = cm.max() / 2.\n",
    "    for i, j in itertools.product(range(cm.shape[0]), range(cm.shape[1])):\n",
    "        plt.text(j, i, \"{}\".format(cm[i, j]),\n",
    "                 horizontalalignment=\"center\",\n",
    "                 color=\"white\" if cm[i, j] > thresh else \"black\")\n",
    "\n",
    "    plt.tight_layout()\n",
    "    plt.ylim(2.5, -0.5)     # set the xlim to left, right\n",
    "    plt.ylabel('True Class')\n",
    "    plt.xlabel('Predicted Class')"
   ]
  },
  {
   "cell_type": "markdown",
   "metadata": {},
   "source": [
    "Función para cálculo del **accuracy** ..."
   ]
  },
  {
   "cell_type": "code",
   "execution_count": 11,
   "metadata": {},
   "outputs": [],
   "source": [
    "# Implement the following function\n",
    "def calculate_accuracy(predicted_classes, actual_classes):\n",
    "  return sum(predicted_classes == actual_classes)/len(actual_classes)"
   ]
  },
  {
   "cell_type": "markdown",
   "metadata": {},
   "source": [
    "Matriz de confusión para el árbol de desición anterior: "
   ]
  },
  {
   "cell_type": "code",
   "execution_count": 19,
   "metadata": {},
   "outputs": [
    {
     "name": "stdout",
     "output_type": "stream",
     "text": [
      "Our accuracy score: 0.7897435897435897\n",
      "Confusion matrix, without normalization\n",
      "[[233  24   3]\n",
      " [ 26 182  52]\n",
      " [  3  56 201]]\n"
     ]
    },
    {
     "data": {
      "image/png": "[encoded data removed]",
      "text/plain": [
       "<Figure size 432x288 with 2 Axes>"
      ]
     },
     "metadata": {
      "needs_background": "light"
     },
     "output_type": "display_data"
    }
   ],
   "source": [
    "data = np.load('galaxy_catalogue.npy')\n",
    "\n",
    "# split the data\n",
    "features, targets = generate_features_targets(data)\n",
    "\n",
    "# train the model to get predicted and actual classes\n",
    "dtc = DecisionTreeClassifier()\n",
    "predicted = cross_val_predict(dtc, features, targets, cv=10)\n",
    "\n",
    "# calculate the model score using your function\n",
    "model_score = calculate_accuracy(predicted, targets)\n",
    "print(\"Our accuracy score:\", model_score)\n",
    "\n",
    "# calculate the models confusion matrix using sklearns confusion_matrix function\n",
    "class_labels = list(set(targets))\n",
    "model_cm = confusion_matrix(y_true=targets, y_pred=predicted, labels=class_labels)\n",
    "\n",
    "# Plot the confusion matrix using the provided functions.\n",
    "plt.figure()\n",
    "plot_confusion_matrix(model_cm, classes=class_labels, normalize=False)\n",
    "plt.show()"
   ]
  },
  {
   "cell_type": "markdown",
   "metadata": {},
   "source": [
    "Ahora usando Random Forrest..."
   ]
  },
  {
   "cell_type": "code",
   "execution_count": 28,
   "metadata": {},
   "outputs": [],
   "source": [
    "# Llamado de RandomForestClassifier como metodo ensamble\n",
    "\n"
   ]
  },
  {
   "cell_type": "markdown",
   "metadata": {},
   "source": [
    "Actualización de la función de predicción, ahora con Random Forrest:"
   ]
  },
  {
   "cell_type": "code",
   "execution_count": 23,
   "metadata": {},
   "outputs": [],
   "source": [
    "# complete this function to get predictions from a random forest classifier\n",
    "def rf_predict_actual(data, n_estimators):\n",
    "  # generate the features and targets\n",
    "  features, targets = generate_features_targets(data)\n",
    "\n",
    "  # instanciar RF con el hiperparametro n_estimators\n",
    "  rfc = \n",
    "  \n",
    "  # get predictions using 10-fold cross validation with cross_val_predict\n",
    "  predicted = cross_val_predict(rfc, features, targets, cv=10)\n",
    "\n",
    "  # return the predictions and their actual classes\n",
    "  return predicted, targets"
   ]
  },
  {
   "cell_type": "code",
   "execution_count": 24,
   "metadata": {},
   "outputs": [
    {
     "name": "stdout",
     "output_type": "stream",
     "text": [
      "Accuracy score: 0.8628205128205129\n",
      "Confusion matrix, without normalization\n",
      "[[247  12   1]\n",
      " [ 14 209  37]\n",
      " [  3  40 217]]\n"
     ]
    },
    {
     "data": {
      "image/png": "[encoded data removed]",
      "text/plain": [
       "<Figure size 432x288 with 2 Axes>"
      ]
     },
     "metadata": {
      "needs_background": "light"
     },
     "output_type": "display_data"
    }
   ],
   "source": [
    "data = np.load('galaxy_catalogue.npy')\n",
    "\n",
    "# get the predicted and actual classes\n",
    "number_estimators = 50              # Number of trees\n",
    "predicted, actual = rf_predict_actual(data, number_estimators)\n",
    "\n",
    "# calculate the model score using your function\n",
    "accuracy = calculate_accuracy(predicted, actual)\n",
    "print(\"Accuracy score:\", accuracy)\n",
    "\n",
    "# calculate the models confusion matrix using sklearns confusion_matrix function\n",
    "class_labels = list(set(actual))\n",
    "model_cm = confusion_matrix(y_true=actual, y_pred=predicted, labels=class_labels)\n",
    "\n",
    "# plot the confusion matrix using the provided functions.\n",
    "plt.figure()\n",
    "plot_confusion_matrix(model_cm, classes=class_labels, normalize=False)\n",
    "plt.show()"
   ]
  },
  {
   "cell_type": "code",
   "execution_count": null,
   "metadata": {},
   "outputs": [],
   "source": []
  }
 ],
 "metadata": {
  "kernelspec": {
   "display_name": "Python 3",
   "language": "python",
   "name": "python3"
  },
  "language_info": {
   "codemirror_mode": {
    "name": "ipython",
    "version": 3
   },
   "file_extension": ".py",
   "mimetype": "text/x-python",
   "name": "python",
   "nbconvert_exporter": "python",
   "pygments_lexer": "ipython3",
   "version": "3.7.4"
  }
 },
 "nbformat": 4,
 "nbformat_minor": 2
}
