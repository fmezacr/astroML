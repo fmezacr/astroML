{
 "cells": [
  {
   "cell_type": "markdown",
   "metadata": {},
   "source": [
    "# Estimación de Z a partir de los índices de color..."
   ]
  },
  {
   "cell_type": "code",
   "execution_count": 34,
   "metadata": {},
   "outputs": [],
   "source": [
    "%matplotlib inline\n",
    "\n",
    "import time\n",
    "from sklearn.model_selection import train_test_split\n",
    "\n",
    "# Importar las libs para numpy, pandas, matplotlib (usar style \"R\")\n",
    "\n"
   ]
  },
  {
   "cell_type": "code",
   "execution_count": 2,
   "metadata": {},
   "outputs": [],
   "source": [
    "# load the data\n",
    "data = np.load('sdss_galaxy_colors.npy')"
   ]
  },
  {
   "cell_type": "code",
   "execution_count": 53,
   "metadata": {},
   "outputs": [],
   "source": [
    "print(data)"
   ]
  },
  {
   "cell_type": "code",
   "execution_count": null,
   "metadata": {},
   "outputs": [],
   "source": [
    "# visualizar los datos mejor"
   ]
  },
  {
   "cell_type": "code",
   "execution_count": 6,
   "metadata": {},
   "outputs": [],
   "source": []
  },
  {
   "cell_type": "code",
   "execution_count": 35,
   "metadata": {
    "scrolled": false
   },
   "outputs": [],
   "source": []
  },
  {
   "cell_type": "code",
   "execution_count": 8,
   "metadata": {},
   "outputs": [],
   "source": [
    "def get_features_targets(data):\n",
    "  # complete this function\n",
    "  features = np.zeros(shape=(len(df), 4))\n",
    "  features[:, 0] = data['u'] - data['g']\n",
    "  features[:, 1] = data['g'] - data['r']\n",
    "  features[:, 2] = data['r'] - data['i']\n",
    "  features[:, 3] = data['i'] - data['z']\n",
    "  targets = data['redshift']\n",
    "  return features, targets"
   ]
  },
  {
   "cell_type": "code",
   "execution_count": 9,
   "metadata": {},
   "outputs": [],
   "source": [
    "# call our function \n",
    "features, targets = get_features_targets(data)"
   ]
  },
  {
   "cell_type": "code",
   "execution_count": 36,
   "metadata": {
    "scrolled": true
   },
   "outputs": [],
   "source": [
    "features"
   ]
  },
  {
   "cell_type": "code",
   "execution_count": 37,
   "metadata": {},
   "outputs": [],
   "source": [
    "targets"
   ]
  },
  {
   "cell_type": "markdown",
   "metadata": {},
   "source": [
    "# Se crean los loops para validar el hiperparámetro óptimo:"
   ]
  },
  {
   "cell_type": "code",
   "execution_count": 12,
   "metadata": {},
   "outputs": [],
   "source": [
    "X_train, X_test, y_train, y_test = train_test_split(features, targets, random_state=20, test_size=0.2)"
   ]
  },
  {
   "cell_type": "code",
   "execution_count": 13,
   "metadata": {},
   "outputs": [],
   "source": [
    "training_accuracy = []\n",
    "test_accuracy = []"
   ]
  },
  {
   "cell_type": "code",
   "execution_count": 38,
   "metadata": {
    "scrolled": true
   },
   "outputs": [],
   "source": [
    "from sklearn.tree import DecisionTreeRegressor\n",
    "\n",
    "depth_set = range(1, 18)\n",
    "for depth in depth_set:\n",
    "    # se construye el modelo de clasificacion\n",
    "\n",
    "    \n",
    "    # se almacena el \"training set accuracy\"\n",
    "    training_accuracy.append(clf.score(X_train, y_train))\n",
    "    # se almacena la \"generalization accuracy\"\n",
    "    test_accuracy.append(clf.score(X_test, y_test))\n",
    "plt.plot(depth_set, training_accuracy, label=\"training accuracy\")\n",
    "plt.plot(depth_set, test_accuracy, label=\"test accuracy\")\n",
    "plt.title('Training and test accuracy using \"Decision Trees\"')\n",
    "plt.ylabel(\"Accuracy\")\n",
    "plt.xlabel(\"Depth\")\n",
    "plt.legend()"
   ]
  },
  {
   "cell_type": "markdown",
   "metadata": {},
   "source": [
    "Caso Optimo:"
   ]
  },
  {
   "cell_type": "code",
   "execution_count": 39,
   "metadata": {},
   "outputs": [],
   "source": [
    "start = time.time()\n",
    "\n",
    "# Fit regression model (Ingresar hiper)\n",
    "regressor = DecisionTreeRegressor(max_depth=)\n",
    "\n",
    "regressor.fit(X_train, y_train)\n",
    "\n",
    "# Predict\n",
    "y_out = regressor.predict(X_test)\n",
    "\n",
    "score = regressor.score(X_test, y_test)\n",
    "\n",
    "end = time.time()\n",
    "m = (end - start)/60\n",
    "m = round(m, 2)\n",
    "s = (end - start)\n",
    "s = round(s, 2)\n",
    "print(f\"Test time: {m} min / {s} sec\")\n",
    "\n",
    "score"
   ]
  },
  {
   "cell_type": "markdown",
   "metadata": {},
   "source": [
    "Ahora usando Random Forest:"
   ]
  },
  {
   "cell_type": "code",
   "execution_count": 16,
   "metadata": {},
   "outputs": [],
   "source": [
    "training_accuracy = []\n",
    "test_accuracy = []"
   ]
  },
  {
   "cell_type": "code",
   "execution_count": 40,
   "metadata": {},
   "outputs": [],
   "source": [
    "from sklearn.ensemble import RandomForestRegressor\n",
    "\n",
    "depth_set = range(1, 20)\n",
    "for depth in depth_set:\n",
    "    # se construye el modelo de clasificacion (ingresar hyper)\n",
    "    clf = RandomForestRegressor(n_estimators=, max_depth=, random_state=0)\n",
    "    clf.fit(X_train, y_train)\n",
    "    # se almacena el \"training set accuracy\"\n",
    "    training_accuracy.append(clf.score(X_train, y_train))\n",
    "    # se almacena la \"generalization accuracy\"\n",
    "    test_accuracy.append(clf.score(X_test, y_test))\n",
    "plt.plot(depth_set, training_accuracy, label=\"training accuracy\")\n",
    "plt.plot(depth_set, test_accuracy, label=\"test accuracy\")\n",
    "plt.title('Training and test accuracy using \"RandomForest-20\"')\n",
    "plt.ylabel(\"Accuracy\")\n",
    "plt.xlabel(\"Depth\")\n",
    "plt.legend()"
   ]
  },
  {
   "cell_type": "markdown",
   "metadata": {},
   "source": [
    "Caso Optimo:"
   ]
  },
  {
   "cell_type": "code",
   "execution_count": 41,
   "metadata": {},
   "outputs": [],
   "source": [
    "start = time.time()\n",
    "\n",
    "# Fit regression model (ingrear valor depth?)\n",
    "regressor = RandomForestRegressor(n_estimators=20,max_depth=, random_state=0)\n",
    "\n",
    "regressor.fit(X_train, y_train)\n",
    "\n",
    "# Predict\n",
    "y_out = regressor.predict(X_test)\n",
    "\n",
    "score = regressor.score(X_test, y_test)\n",
    "\n",
    "end = time.time()\n",
    "m = (end - start)/60\n",
    "m = round(m, 2)\n",
    "s = (end - start)\n",
    "s = round(s, 2)\n",
    "print(f\"Test time: {m} min / {s} sec\")\n",
    "\n",
    "score"
   ]
  },
  {
   "cell_type": "code",
   "execution_count": 19,
   "metadata": {},
   "outputs": [],
   "source": [
    "training_accuracy = []\n",
    "test_accuracy = []"
   ]
  },
  {
   "cell_type": "code",
   "execution_count": 43,
   "metadata": {
    "scrolled": true
   },
   "outputs": [],
   "source": [
    "from sklearn.ensemble import RandomForestRegressor\n",
    "\n",
    "depth_set = range(1, 20)\n",
    "for depth in depth_set:\n",
    "    # se construye el modelo de clasificacion \n",
    "    clf = RandomForestRegressor(n_estimators=100, max_depth=depth, random_state=0)\n",
    "    clf.fit(X_train, y_train)\n",
    "    # se almacena el \"training set accuracy\"\n",
    "    training_accuracy.append(clf.score(X_train, y_train))\n",
    "    # se almacena la \"generalization accuracy\"\n",
    "    test_accuracy.append(clf.score(X_test, y_test))\n",
    "plt.plot(depth_set, training_accuracy, label=\"training accuracy\")\n",
    "plt.plot(depth_set, test_accuracy, label=\"test accuracy\")\n",
    "plt.title('Training and test accuracy using \"RandomForest-100\"')\n",
    "plt.ylabel(\"Accuracy\")\n",
    "plt.xlabel(\"Depth\")\n",
    "plt.legend()"
   ]
  },
  {
   "cell_type": "raw",
   "metadata": {},
   "source": [
    "Caso Optimo:"
   ]
  },
  {
   "cell_type": "code",
   "execution_count": null,
   "metadata": {},
   "outputs": [],
   "source": [
    "start = time.time()\n",
    "\n",
    "# Fit regression model (actualizar max_depth...)\n",
    "regressor = RandomForestRegressor(n_estimators=100,max_depth=, random_state=0)\n",
    "\n",
    "regressor.fit(X_train, y_train)\n",
    "\n",
    "# Predict\n",
    "y_out = regressor.predict(X_test)\n",
    "\n",
    "score = regressor.score(X_test, y_test)\n",
    "\n",
    "end = time.time()\n",
    "m = (end - start)/60\n",
    "m = round(m, 2)\n",
    "s = (end - start)\n",
    "s = round(s, 2)\n",
    "print(f\"Test time: {m} min / {s} sec\")\n",
    "\n",
    "score"
   ]
  },
  {
   "cell_type": "markdown",
   "metadata": {},
   "source": [
    "Ahora con AdaBoost:"
   ]
  },
  {
   "cell_type": "code",
   "execution_count": 22,
   "metadata": {},
   "outputs": [],
   "source": [
    "training_accuracy = []\n",
    "test_accuracy = []"
   ]
  },
  {
   "cell_type": "code",
   "execution_count": 44,
   "metadata": {},
   "outputs": [],
   "source": [
    "from sklearn.ensemble import GradientBoostingRegressor\n",
    "\n",
    "depth_set = range(1, 20)\n",
    "for depth in depth_set:\n",
    "    # se construye el modelo de clasificacion (actualizar hyper)\n",
    "    clf = GradientBoostingRegressor(n_estimators=15, learning_rate=, max_depth=, random_state=0, loss='ls')\n",
    "    clf.fit(X_train, y_train)\n",
    "    # se almacena el \"training set accuracy\"\n",
    "    training_accuracy.append(clf.score(X_train, y_train))\n",
    "    # se almacena la \"generalization accuracy\"\n",
    "    test_accuracy.append(clf.score(X_test, y_test))\n",
    "plt.plot(depth_set, training_accuracy, label=\"training accuracy\")\n",
    "plt.plot(depth_set, test_accuracy, label=\"test accuracy\")\n",
    "plt.title('Training and test accuracy using \"AdaBoost-20\"')\n",
    "plt.ylabel(\"Accuracy\")\n",
    "plt.xlabel(\"Depth\")\n",
    "plt.legend()"
   ]
  },
  {
   "cell_type": "markdown",
   "metadata": {},
   "source": [
    "Caso Optimo:"
   ]
  },
  {
   "cell_type": "code",
   "execution_count": 45,
   "metadata": {},
   "outputs": [],
   "source": [
    "# Fit regression model\n",
    "\n",
    "start = time.time()\n",
    "\n",
    "#actualizar mejor dato\n",
    "\n",
    "regressor = GradientBoostingRegressor(n_estimators=20, learning_rate=, max_depth=, random_state=0, loss='ls')\n",
    "\n",
    "regressor.fit(X_train, y_train)\n",
    "\n",
    "# Predict\n",
    "y_out = regressor.predict(X_test)\n",
    "\n",
    "score = regressor.score(X_test, y_test)\n",
    "\n",
    "end = time.time()\n",
    "m = (end - start)/60\n",
    "m = round(m, 2)\n",
    "s = (end - start)\n",
    "s = round(s, 2)\n",
    "print(f\"Test time: {m} min / {s} sec\")\n",
    "\n",
    "score"
   ]
  },
  {
   "cell_type": "code",
   "execution_count": 25,
   "metadata": {},
   "outputs": [],
   "source": [
    "training_accuracy = []\n",
    "test_accuracy = []"
   ]
  },
  {
   "cell_type": "code",
   "execution_count": 48,
   "metadata": {},
   "outputs": [],
   "source": [
    "from sklearn.ensemble import GradientBoostingRegressor\n",
    "\n",
    "depth_set = range(1, 20)\n",
    "for depth in depth_set:\n",
    "    # se construye el modelo de clasificacion\n",
    "    clf = GradientBoostingRegressor(n_estimators=100, learning_rate=0.3, max_depth=depth, random_state=0, loss='ls')\n",
    "    clf.fit(X_train, y_train)\n",
    "    # se almacena el \"training set accuracy\"\n",
    "    training_accuracy.append(clf.score(X_train, y_train))\n",
    "    # se almacena la \"generalization accuracy\"\n",
    "    test_accuracy.append(clf.score(X_test, y_test))\n",
    "plt.plot(depth_set, training_accuracy, label=\"training accuracy\")\n",
    "plt.plot(depth_set, test_accuracy, label=\"test accuracy\")\n",
    "plt.title('Training and test accuracy using \"AdaBoost-100\"')\n",
    "plt.ylabel(\"Accuracy\")\n",
    "plt.xlabel(\"Depth\")\n",
    "plt.legend()"
   ]
  },
  {
   "cell_type": "code",
   "execution_count": 52,
   "metadata": {},
   "outputs": [],
   "source": [
    "# Fit regression model\n",
    "\n",
    "start = time.time()\n",
    "\n",
    "regressor = GradientBoostingRegressor(n_estimators=100, learning_rate=0.3, max_depth=3, random_state=0, loss='ls')\n",
    "\n",
    "regressor.fit(X_train, y_train)\n",
    "\n",
    "# Predict\n",
    "y_out = regressor.predict(X_test)\n",
    "\n",
    "score = regressor.score(X_test, y_test)\n",
    "\n",
    "end = time.time()\n",
    "m = (end - start)/60\n",
    "m = round(m, 2)\n",
    "s = (end - start)\n",
    "s = round(s, 2)\n",
    "print(f\"Test time: {m} min / {s} sec\")\n",
    "\n",
    "score"
   ]
  },
  {
   "cell_type": "code",
   "execution_count": 28,
   "metadata": {},
   "outputs": [],
   "source": [
    "training_accuracy = []\n",
    "test_accuracy = []"
   ]
  },
  {
   "cell_type": "code",
   "execution_count": 49,
   "metadata": {},
   "outputs": [],
   "source": [
    "#from sklearn import svm\n",
    "\n",
    "C_set = range(1, 20)\n",
    "for C in C_set:\n",
    "    # se construye el modelo de clasificacion\n",
    "    clf = svm.SVR(C=C, kernel='rbf', gamma='scale')\n",
    "    clf.fit(X_train, y_train)\n",
    "    # se almacena el \"training set accuracy\"\n",
    "    training_accuracy.append(clf.score(X_train, y_train))\n",
    "    # se almacena la \"generalization accuracy\"\n",
    "    test_accuracy.append(clf.score(X_test, y_test))\n",
    "plt.plot(depth_set, training_accuracy, label=\"training accuracy\")\n",
    "plt.plot(depth_set, test_accuracy, label=\"test accuracy\")\n",
    "plt.title('Training and test accuracy using \"SVM-rbf\"')\n",
    "plt.ylabel(\"Accuracy\")\n",
    "plt.xlabel(\"C\")\n",
    "plt.legend()"
   ]
  },
  {
   "cell_type": "code",
   "execution_count": 51,
   "metadata": {
    "scrolled": true
   },
   "outputs": [],
   "source": [
    "from sklearn import svm\n",
    "\n",
    "# Fit regression model\n",
    "start = time.time()\n",
    "\n",
    "regressor = svm.SVR(C= 2, kernel='rbf', gamma='scale')\n",
    "regressor.fit(X_train, y_train)\n",
    "\n",
    "# Predict\n",
    "y_out = regressor.predict(X_test)\n",
    "\n",
    "score = regressor.score(X_test, y_test)\n",
    "\n",
    "end = time.time()\n",
    "m = (end - start)/60\n",
    "m = round(m, 2)\n",
    "s = (end - start)\n",
    "s = round(s, 2)\n",
    "print(f\"Test time: {m} min / {s} sec\")\n",
    "\n",
    "score"
   ]
  },
  {
   "cell_type": "code",
   "execution_count": 50,
   "metadata": {
    "scrolled": true
   },
   "outputs": [],
   "source": [
    "import numpy as np\n",
    "from matplotlib import pyplot as plt\n",
    "%matplotlib inline\n",
    "\n",
    "# Complete the following to make the plot\n",
    "data = np.load('sdss_galaxy_colors.npy')\n",
    "# Get a colour map\n",
    "cmap = plt.get_cmap('Reds')\n",
    "\n",
    "# Define our colour indexes u-g and r-i\n",
    "u_g = data['u'] - data['g']\n",
    "r_i = data['r'] - data['i']\n",
    "\n",
    "# Make a redshift array\n",
    "redshift = data['redshift']\n",
    "\n",
    "# Create the plot with plt.scatter\n",
    "plot = plt.scatter(u_g, r_i, s=0.5, lw=0, c=redshift, cmap=cmap)\n",
    "\n",
    "cb = plt.colorbar(plot)\n",
    "cb.set_label('Redshift')\n",
    "\n",
    "# Define your axis labels and plot title\n",
    "plt.xlabel('Colour index  u-g')\n",
    "plt.ylabel('Colour index  r-i')\n",
    "plt.title('Redshift (colour) u-g versus r-i')\n",
    "\n",
    "# Set any axis limits\n",
    "plt.xlim(-0.5, 2.5)\n",
    "plt.ylim(-0.5, 1)\n",
    "\n",
    "plt.show()"
   ]
  },
  {
   "cell_type": "code",
   "execution_count": 46,
   "metadata": {},
   "outputs": [],
   "source": [
    "label = ['SVM-rbf', 'DT', 'RF-20', 'RF-100', 'ADA-20', 'ADA-100']\n",
    "result = [66.79,66.98,69.25,69.54,72.76,74.61]\n",
    "\n",
    "def plot_bar_x():\n",
    "    # this is for plotting purpose\n",
    "    index = np.arange(len(label))\n",
    "    plt.bar(index, result)\n",
    "    plt.xlabel('ML Method', fontsize=10)\n",
    "    plt.ylabel('Accuracy', fontsize=10)\n",
    "    plt.xticks(index, label, fontsize=9, rotation=30)\n",
    "    plt.ylim([65, 80])\n",
    "    plt.title('Redshift accuracy of galaxies using ML methods')\n",
    "    plt.show()\n",
    "    \n",
    "plot_bar_x()"
   ]
  },
  {
   "cell_type": "code",
   "execution_count": 47,
   "metadata": {},
   "outputs": [],
   "source": [
    "label = ['SVM-rbf', 'DT', 'RF-20', 'RF-100', 'ADA-20', 'ADA-100']\n",
    "result = [13.15,0.09,1.05,5.30,0.37,1.63]\n",
    "\n",
    "def plot_bar_x():\n",
    "    # this is for plotting purpose\n",
    "    index = np.arange(len(label))\n",
    "    plt.bar(index, result,color='dodgerblue')\n",
    "    plt.xlabel('ML Method', fontsize=10)\n",
    "    plt.ylabel('Seconds', fontsize=10)\n",
    "    plt.xticks(index, label, fontsize=9, rotation=30)\n",
    "    plt.ylim([0, 15])\n",
    "    plt.title('Time consumed per ML method')\n",
    "    plt.show()\n",
    "    \n",
    "plot_bar_x()"
   ]
  },
  {
   "cell_type": "code",
   "execution_count": null,
   "metadata": {
    "collapsed": true
   },
   "outputs": [],
   "source": []
  }
 ],
 "metadata": {
  "kernelspec": {
   "display_name": "Python 3",
   "language": "python",
   "name": "python3"
  },
  "language_info": {
   "codemirror_mode": {
    "name": "ipython",
    "version": 3
   },
   "file_extension": ".py",
   "mimetype": "text/x-python",
   "name": "python",
   "nbconvert_exporter": "python",
   "pygments_lexer": "ipython3",
   "version": "3.7.4"
  }
 },
 "nbformat": 4,
 "nbformat_minor": 2
}
