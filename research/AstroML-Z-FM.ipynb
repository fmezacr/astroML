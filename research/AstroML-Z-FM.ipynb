{
 "cells": [
  {
   "cell_type": "markdown",
   "metadata": {},
   "source": [
    "# Estimación de Z a partir de los índices de color..."
   ]
  },
  {
   "cell_type": "code",
   "execution_count": 1,
   "metadata": {},
   "outputs": [],
   "source": [
    "%matplotlib inline\n",
    "\n",
    "import numpy as np\n",
    "import pandas as pd\n",
    "import matplotlib.pyplot as plt\n",
    "import time\n",
    "from sklearn.model_selection import train_test_split\n",
    "\n",
    "plt.style.use('ggplot')"
   ]
  },
  {
   "cell_type": "code",
   "execution_count": 2,
   "metadata": {},
   "outputs": [],
   "source": [
    "# load the data\n",
    "data = np.load('sdss_galaxy_colors.npy')"
   ]
  },
  {
   "cell_type": "code",
   "execution_count": 3,
   "metadata": {},
   "outputs": [
    {
     "name": "stdout",
     "output_type": "stream",
     "text": [
      "[(19.84132, 19.52656, 19.46946, 19.17955, 19.10763, b'QSO', 0.539301  , 6.543622e-05)\n",
      " (19.86318, 18.66298, 17.84272, 17.38978, 17.14313, b'GALAXY', 0.1645703 , 1.186625e-05)\n",
      " (19.97362, 18.31421, 17.47922, 17.0744 , 16.76174, b'GALAXY', 0.04190006, 2.183788e-05)\n",
      " ...\n",
      " (19.82667, 18.10038, 17.16133, 16.5796 , 16.19755, b'GALAXY', 0.0784592 , 2.159406e-05)\n",
      " (19.98672, 19.75385, 19.5713 , 19.27739, 19.25895, b'QSO', 1.567295  , 4.505933e-04)\n",
      " (18.00024, 17.80957, 17.77302, 17.72663, 17.7264 , b'QSO', 0.4749449 , 6.203324e-05)]\n"
     ]
    }
   ],
   "source": [
    "print(data)"
   ]
  },
  {
   "cell_type": "code",
   "execution_count": 4,
   "metadata": {},
   "outputs": [],
   "source": [
    "df = pd.DataFrame(data)"
   ]
  },
  {
   "cell_type": "code",
   "execution_count": 5,
   "metadata": {
    "scrolled": false
   },
   "outputs": [
    {
     "data": {
      "text/html": [
       "<div>\n",
       "<style scoped>\n",
       "    .dataframe tbody tr th:only-of-type {\n",
       "        vertical-align: middle;\n",
       "    }\n",
       "\n",
       "    .dataframe tbody tr th {\n",
       "        vertical-align: top;\n",
       "    }\n",
       "\n",
       "    .dataframe thead th {\n",
       "        text-align: right;\n",
       "    }\n",
       "</style>\n",
       "<table border=\"1\" class=\"dataframe\">\n",
       "  <thead>\n",
       "    <tr style=\"text-align: right;\">\n",
       "      <th></th>\n",
       "      <th>u</th>\n",
       "      <th>g</th>\n",
       "      <th>r</th>\n",
       "      <th>i</th>\n",
       "      <th>z</th>\n",
       "      <th>spec_class</th>\n",
       "      <th>redshift</th>\n",
       "      <th>redshift_err</th>\n",
       "    </tr>\n",
       "  </thead>\n",
       "  <tbody>\n",
       "    <tr>\n",
       "      <td>0</td>\n",
       "      <td>19.84132</td>\n",
       "      <td>19.52656</td>\n",
       "      <td>19.46946</td>\n",
       "      <td>19.17955</td>\n",
       "      <td>19.10763</td>\n",
       "      <td>b'QSO'</td>\n",
       "      <td>0.539301</td>\n",
       "      <td>0.000065</td>\n",
       "    </tr>\n",
       "    <tr>\n",
       "      <td>1</td>\n",
       "      <td>19.86318</td>\n",
       "      <td>18.66298</td>\n",
       "      <td>17.84272</td>\n",
       "      <td>17.38978</td>\n",
       "      <td>17.14313</td>\n",
       "      <td>b'GALAXY'</td>\n",
       "      <td>0.164570</td>\n",
       "      <td>0.000012</td>\n",
       "    </tr>\n",
       "    <tr>\n",
       "      <td>2</td>\n",
       "      <td>19.97362</td>\n",
       "      <td>18.31421</td>\n",
       "      <td>17.47922</td>\n",
       "      <td>17.07440</td>\n",
       "      <td>16.76174</td>\n",
       "      <td>b'GALAXY'</td>\n",
       "      <td>0.041900</td>\n",
       "      <td>0.000022</td>\n",
       "    </tr>\n",
       "    <tr>\n",
       "      <td>3</td>\n",
       "      <td>19.05989</td>\n",
       "      <td>17.49459</td>\n",
       "      <td>16.59285</td>\n",
       "      <td>16.09412</td>\n",
       "      <td>15.70741</td>\n",
       "      <td>b'GALAXY'</td>\n",
       "      <td>0.044277</td>\n",
       "      <td>0.000011</td>\n",
       "    </tr>\n",
       "    <tr>\n",
       "      <td>4</td>\n",
       "      <td>19.45567</td>\n",
       "      <td>18.33084</td>\n",
       "      <td>17.67185</td>\n",
       "      <td>17.30189</td>\n",
       "      <td>17.13650</td>\n",
       "      <td>b'GALAXY'</td>\n",
       "      <td>0.041644</td>\n",
       "      <td>0.000018</td>\n",
       "    </tr>\n",
       "    <tr>\n",
       "      <td>...</td>\n",
       "      <td>...</td>\n",
       "      <td>...</td>\n",
       "      <td>...</td>\n",
       "      <td>...</td>\n",
       "      <td>...</td>\n",
       "      <td>...</td>\n",
       "      <td>...</td>\n",
       "      <td>...</td>\n",
       "    </tr>\n",
       "    <tr>\n",
       "      <td>49995</td>\n",
       "      <td>18.78195</td>\n",
       "      <td>17.36771</td>\n",
       "      <td>16.62808</td>\n",
       "      <td>16.24659</td>\n",
       "      <td>15.97817</td>\n",
       "      <td>b'GALAXY'</td>\n",
       "      <td>0.078153</td>\n",
       "      <td>0.000031</td>\n",
       "    </tr>\n",
       "    <tr>\n",
       "      <td>49996</td>\n",
       "      <td>19.65251</td>\n",
       "      <td>17.59881</td>\n",
       "      <td>16.63644</td>\n",
       "      <td>16.19178</td>\n",
       "      <td>15.85334</td>\n",
       "      <td>b'GALAXY'</td>\n",
       "      <td>0.079438</td>\n",
       "      <td>0.000020</td>\n",
       "    </tr>\n",
       "    <tr>\n",
       "      <td>49997</td>\n",
       "      <td>19.82667</td>\n",
       "      <td>18.10038</td>\n",
       "      <td>17.16133</td>\n",
       "      <td>16.57960</td>\n",
       "      <td>16.19755</td>\n",
       "      <td>b'GALAXY'</td>\n",
       "      <td>0.078459</td>\n",
       "      <td>0.000022</td>\n",
       "    </tr>\n",
       "    <tr>\n",
       "      <td>49998</td>\n",
       "      <td>19.98672</td>\n",
       "      <td>19.75385</td>\n",
       "      <td>19.57130</td>\n",
       "      <td>19.27739</td>\n",
       "      <td>19.25895</td>\n",
       "      <td>b'QSO'</td>\n",
       "      <td>1.567295</td>\n",
       "      <td>0.000451</td>\n",
       "    </tr>\n",
       "    <tr>\n",
       "      <td>49999</td>\n",
       "      <td>18.00024</td>\n",
       "      <td>17.80957</td>\n",
       "      <td>17.77302</td>\n",
       "      <td>17.72663</td>\n",
       "      <td>17.72640</td>\n",
       "      <td>b'QSO'</td>\n",
       "      <td>0.474945</td>\n",
       "      <td>0.000062</td>\n",
       "    </tr>\n",
       "  </tbody>\n",
       "</table>\n",
       "<p>50000 rows × 8 columns</p>\n",
       "</div>"
      ],
      "text/plain": [
       "              u         g         r         i         z spec_class  redshift  \\\n",
       "0      19.84132  19.52656  19.46946  19.17955  19.10763     b'QSO'  0.539301   \n",
       "1      19.86318  18.66298  17.84272  17.38978  17.14313  b'GALAXY'  0.164570   \n",
       "2      19.97362  18.31421  17.47922  17.07440  16.76174  b'GALAXY'  0.041900   \n",
       "3      19.05989  17.49459  16.59285  16.09412  15.70741  b'GALAXY'  0.044277   \n",
       "4      19.45567  18.33084  17.67185  17.30189  17.13650  b'GALAXY'  0.041644   \n",
       "...         ...       ...       ...       ...       ...        ...       ...   \n",
       "49995  18.78195  17.36771  16.62808  16.24659  15.97817  b'GALAXY'  0.078153   \n",
       "49996  19.65251  17.59881  16.63644  16.19178  15.85334  b'GALAXY'  0.079438   \n",
       "49997  19.82667  18.10038  17.16133  16.57960  16.19755  b'GALAXY'  0.078459   \n",
       "49998  19.98672  19.75385  19.57130  19.27739  19.25895     b'QSO'  1.567295   \n",
       "49999  18.00024  17.80957  17.77302  17.72663  17.72640     b'QSO'  0.474945   \n",
       "\n",
       "       redshift_err  \n",
       "0          0.000065  \n",
       "1          0.000012  \n",
       "2          0.000022  \n",
       "3          0.000011  \n",
       "4          0.000018  \n",
       "...             ...  \n",
       "49995      0.000031  \n",
       "49996      0.000020  \n",
       "49997      0.000022  \n",
       "49998      0.000451  \n",
       "49999      0.000062  \n",
       "\n",
       "[50000 rows x 8 columns]"
      ]
     },
     "execution_count": 5,
     "metadata": {},
     "output_type": "execute_result"
    }
   ],
   "source": [
    "df"
   ]
  },
  {
   "cell_type": "code",
   "execution_count": 6,
   "metadata": {},
   "outputs": [],
   "source": [
    "def get_features_targets(data):\n",
    "  # complete this function\n",
    "  features = np.zeros(shape=(len(df), 4))\n",
    "  features[:, 0] = data['u'] - data['g']\n",
    "  features[:, 1] = data['g'] - data['r']\n",
    "  features[:, 2] = data['r'] - data['i']\n",
    "  features[:, 3] = data['i'] - data['z']\n",
    "  targets = data['redshift']\n",
    "  return features, targets"
   ]
  },
  {
   "cell_type": "code",
   "execution_count": 7,
   "metadata": {},
   "outputs": [],
   "source": [
    "# call our function \n",
    "features, targets = get_features_targets(data)"
   ]
  },
  {
   "cell_type": "code",
   "execution_count": 8,
   "metadata": {
    "scrolled": true
   },
   "outputs": [
    {
     "data": {
      "text/plain": [
       "array([[3.14760e-01, 5.71000e-02, 2.89910e-01, 7.19200e-02],\n",
       "       [1.20020e+00, 8.20260e-01, 4.52940e-01, 2.46650e-01],\n",
       "       [1.65941e+00, 8.34990e-01, 4.04820e-01, 3.12660e-01],\n",
       "       ...,\n",
       "       [1.72629e+00, 9.39050e-01, 5.81730e-01, 3.82050e-01],\n",
       "       [2.32870e-01, 1.82550e-01, 2.93910e-01, 1.84400e-02],\n",
       "       [1.90670e-01, 3.65500e-02, 4.63900e-02, 2.30000e-04]])"
      ]
     },
     "execution_count": 8,
     "metadata": {},
     "output_type": "execute_result"
    }
   ],
   "source": [
    "features"
   ]
  },
  {
   "cell_type": "code",
   "execution_count": 9,
   "metadata": {},
   "outputs": [
    {
     "data": {
      "text/plain": [
       "array([0.539301  , 0.1645703 , 0.04190006, ..., 0.0784592 , 1.567295  ,\n",
       "       0.4749449 ])"
      ]
     },
     "execution_count": 9,
     "metadata": {},
     "output_type": "execute_result"
    }
   ],
   "source": [
    "targets"
   ]
  },
  {
   "cell_type": "code",
   "execution_count": 10,
   "metadata": {},
   "outputs": [],
   "source": [
    "def validate_model(model, features, targets):\n",
    "  # split the data into training and testing\n",
    "  split = 2*features.shape[0]//3\n",
    "  train_features, test_features = features[:split], features[split:]\n",
    "  train_targets, test_targets = targets[:split], targets[split:]\n",
    "\n",
    "  # train the model\n",
    "  model.fit(train_features, train_targets)\n",
    "\n",
    "  # get the predicted_redshifts\n",
    "  predictions = model.predict(test_features)  \n",
    "  \n",
    "  # use median_diff function to calculate the accuracy\n",
    "  return median_diff(test_targets, predictions)\n"
   ]
  },
  {
   "cell_type": "code",
   "execution_count": 11,
   "metadata": {},
   "outputs": [],
   "source": [
    "def median_diff(predicted, actual):\n",
    "  return np.median(np.abs(predicted - actual))"
   ]
  },
  {
   "cell_type": "markdown",
   "metadata": {},
   "source": [
    "# Mean ERROR: "
   ]
  },
  {
   "cell_type": "markdown",
   "metadata": {},
   "source": [
    "## SVM"
   ]
  },
  {
   "cell_type": "code",
   "execution_count": 12,
   "metadata": {},
   "outputs": [
    {
     "name": "stdout",
     "output_type": "stream",
     "text": [
      "Median difference: 0.029124\n"
     ]
    }
   ],
   "source": [
    "from sklearn import svm\n",
    "\n",
    "data = np.load('sdss_galaxy_colors.npy')\n",
    "features, targets = get_features_targets(data)\n",
    "\n",
    "# initialize model\n",
    "dtr = svm.SVR(kernel='rbf', gamma='scale')\n",
    "\n",
    "# validate the model and print the med_diff\n",
    "diff = validate_model(dtr, features, targets)\n",
    "print('Median difference: {:f}'.format(diff))"
   ]
  },
  {
   "cell_type": "code",
   "execution_count": 13,
   "metadata": {},
   "outputs": [],
   "source": [
    "svm = diff"
   ]
  },
  {
   "cell_type": "markdown",
   "metadata": {},
   "source": [
    "## DecisionTreeRegressor"
   ]
  },
  {
   "cell_type": "code",
   "execution_count": 14,
   "metadata": {},
   "outputs": [
    {
     "name": "stdout",
     "output_type": "stream",
     "text": [
      "Median difference: 0.021542\n"
     ]
    }
   ],
   "source": [
    "from sklearn.tree import DecisionTreeRegressor\n",
    "\n",
    "data = np.load('sdss_galaxy_colors.npy')\n",
    "features, targets = get_features_targets(data)\n",
    "\n",
    "# initialize model\n",
    "dtr = DecisionTreeRegressor()\n",
    "\n",
    "# validate the model and print the med_diff\n",
    "diff = validate_model(dtr, features, targets)\n",
    "print('Median difference: {:f}'.format(diff))"
   ]
  },
  {
   "cell_type": "code",
   "execution_count": 15,
   "metadata": {},
   "outputs": [],
   "source": [
    "dt = diff"
   ]
  },
  {
   "cell_type": "markdown",
   "metadata": {},
   "source": [
    "## RandomForestRegressor 20"
   ]
  },
  {
   "cell_type": "code",
   "execution_count": 16,
   "metadata": {},
   "outputs": [
    {
     "name": "stdout",
     "output_type": "stream",
     "text": [
      "Median difference: 0.017563\n"
     ]
    }
   ],
   "source": [
    "from sklearn.ensemble import RandomForestRegressor\n",
    "\n",
    "data = np.load('sdss_galaxy_colors.npy')\n",
    "features, targets = get_features_targets(data)\n",
    "\n",
    "# initialize model\n",
    "dtr = RandomForestRegressor(n_estimators=20)\n",
    "\n",
    "# validate the model and print the med_diff\n",
    "diff = validate_model(dtr, features, targets)\n",
    "print('Median difference: {:f}'.format(diff))"
   ]
  },
  {
   "cell_type": "code",
   "execution_count": 17,
   "metadata": {},
   "outputs": [],
   "source": [
    "rf20 = diff"
   ]
  },
  {
   "cell_type": "markdown",
   "metadata": {},
   "source": [
    "## RandomForestRegressor 10"
   ]
  },
  {
   "cell_type": "code",
   "execution_count": 18,
   "metadata": {},
   "outputs": [
    {
     "name": "stdout",
     "output_type": "stream",
     "text": [
      "Median difference: 0.017976\n"
     ]
    }
   ],
   "source": [
    "from sklearn.ensemble import RandomForestRegressor\n",
    "\n",
    "data = np.load('sdss_galaxy_colors.npy')\n",
    "features, targets = get_features_targets(data)\n",
    "\n",
    "# initialize model\n",
    "dtr = RandomForestRegressor(n_estimators=10)\n",
    "\n",
    "# validate the model and print the med_diff\n",
    "diff = validate_model(dtr, features, targets)\n",
    "print('Median difference: {:f}'.format(diff))"
   ]
  },
  {
   "cell_type": "code",
   "execution_count": 19,
   "metadata": {},
   "outputs": [],
   "source": [
    "rf10 = diff"
   ]
  },
  {
   "cell_type": "markdown",
   "metadata": {},
   "source": [
    "## GradientBoostingRegressor 10 "
   ]
  },
  {
   "cell_type": "code",
   "execution_count": 20,
   "metadata": {},
   "outputs": [
    {
     "name": "stdout",
     "output_type": "stream",
     "text": [
      "Median difference: 0.089472\n"
     ]
    }
   ],
   "source": [
    "from sklearn.ensemble import GradientBoostingRegressor\n",
    "\n",
    "data = np.load('sdss_galaxy_colors.npy')\n",
    "features, targets = get_features_targets(data)\n",
    "\n",
    "# initialize model\n",
    "dtr = GradientBoostingRegressor(n_estimators=10)\n",
    "\n",
    "# validate the model and print the med_diff\n",
    "diff = validate_model(dtr, features, targets)\n",
    "print('Median difference: {:f}'.format(diff))"
   ]
  },
  {
   "cell_type": "code",
   "execution_count": 21,
   "metadata": {},
   "outputs": [],
   "source": [
    "ada10 = diff"
   ]
  },
  {
   "cell_type": "markdown",
   "metadata": {},
   "source": [
    "## GradientBoostingRegressor 20 "
   ]
  },
  {
   "cell_type": "code",
   "execution_count": 22,
   "metadata": {},
   "outputs": [
    {
     "name": "stdout",
     "output_type": "stream",
     "text": [
      "Median difference: 0.046997\n"
     ]
    }
   ],
   "source": [
    "from sklearn.ensemble import GradientBoostingRegressor\n",
    "\n",
    "data = np.load('sdss_galaxy_colors.npy')\n",
    "features, targets = get_features_targets(data)\n",
    "\n",
    "# initialize model\n",
    "dtr = GradientBoostingRegressor(n_estimators=20)\n",
    "\n",
    "# validate the model and print the med_diff\n",
    "diff = validate_model(dtr, features, targets)\n",
    "print('Median difference: {:f}'.format(diff))"
   ]
  },
  {
   "cell_type": "code",
   "execution_count": 23,
   "metadata": {},
   "outputs": [],
   "source": [
    "ada20 = diff"
   ]
  },
  {
   "cell_type": "markdown",
   "metadata": {},
   "source": [
    "## GradientBoostingRegressor 30 "
   ]
  },
  {
   "cell_type": "code",
   "execution_count": 25,
   "metadata": {},
   "outputs": [
    {
     "name": "stdout",
     "output_type": "stream",
     "text": [
      "Median difference: 0.037261\n"
     ]
    }
   ],
   "source": [
    "from sklearn.ensemble import GradientBoostingRegressor\n",
    "\n",
    "data = np.load('sdss_galaxy_colors.npy')\n",
    "features, targets = get_features_targets(data)\n",
    "\n",
    "# initialize model\n",
    "dtr = GradientBoostingRegressor(n_estimators=30)\n",
    "\n",
    "# validate the model and print the med_diff\n",
    "diff = validate_model(dtr, features, targets)\n",
    "print('Median difference: {:f}'.format(diff))"
   ]
  },
  {
   "cell_type": "code",
   "execution_count": 26,
   "metadata": {},
   "outputs": [],
   "source": [
    "ada30 = diff"
   ]
  },
  {
   "cell_type": "markdown",
   "metadata": {},
   "source": [
    "## GradientBoostingRegressor 40 "
   ]
  },
  {
   "cell_type": "code",
   "execution_count": 27,
   "metadata": {},
   "outputs": [
    {
     "name": "stdout",
     "output_type": "stream",
     "text": [
      "Median difference: 0.035327\n"
     ]
    }
   ],
   "source": [
    "from sklearn.ensemble import GradientBoostingRegressor\n",
    "\n",
    "data = np.load('sdss_galaxy_colors.npy')\n",
    "features, targets = get_features_targets(data)\n",
    "\n",
    "# initialize model\n",
    "dtr = GradientBoostingRegressor(n_estimators=40)\n",
    "\n",
    "# validate the model and print the med_diff\n",
    "diff = validate_model(dtr, features, targets)\n",
    "print('Median difference: {:f}'.format(diff))"
   ]
  },
  {
   "cell_type": "code",
   "execution_count": 28,
   "metadata": {},
   "outputs": [],
   "source": [
    "ada40 = diff"
   ]
  },
  {
   "cell_type": "markdown",
   "metadata": {},
   "source": [
    "## GradientBoostingRegressor 50 "
   ]
  },
  {
   "cell_type": "code",
   "execution_count": 29,
   "metadata": {},
   "outputs": [
    {
     "name": "stdout",
     "output_type": "stream",
     "text": [
      "Median difference: 0.035024\n"
     ]
    }
   ],
   "source": [
    "from sklearn.ensemble import GradientBoostingRegressor\n",
    "\n",
    "data = np.load('sdss_galaxy_colors.npy')\n",
    "features, targets = get_features_targets(data)\n",
    "\n",
    "# initialize model\n",
    "dtr = GradientBoostingRegressor(n_estimators=50)\n",
    "\n",
    "# validate the model and print the med_diff\n",
    "diff = validate_model(dtr, features, targets)\n",
    "print('Median difference: {:f}'.format(diff))"
   ]
  },
  {
   "cell_type": "code",
   "execution_count": 30,
   "metadata": {},
   "outputs": [],
   "source": [
    "ada50 = diff"
   ]
  },
  {
   "cell_type": "markdown",
   "metadata": {},
   "source": [
    "## GradientBoostingRegressor 70 "
   ]
  },
  {
   "cell_type": "code",
   "execution_count": 31,
   "metadata": {},
   "outputs": [
    {
     "name": "stdout",
     "output_type": "stream",
     "text": [
      "Median difference: 0.032997\n"
     ]
    }
   ],
   "source": [
    "from sklearn.ensemble import GradientBoostingRegressor\n",
    "\n",
    "data = np.load('sdss_galaxy_colors.npy')\n",
    "features, targets = get_features_targets(data)\n",
    "\n",
    "# initialize model\n",
    "dtr = GradientBoostingRegressor(n_estimators=70)\n",
    "\n",
    "# validate the model and print the med_diff\n",
    "diff = validate_model(dtr, features, targets)\n",
    "print('Median difference: {:f}'.format(diff))"
   ]
  },
  {
   "cell_type": "code",
   "execution_count": 32,
   "metadata": {},
   "outputs": [],
   "source": [
    "ada70 = diff"
   ]
  },
  {
   "cell_type": "code",
   "execution_count": 33,
   "metadata": {
    "scrolled": true
   },
   "outputs": [
    {
     "data": {
      "image/png": "[encoded data removed]",
      "text/plain": [
       "<Figure size 432x288 with 1 Axes>"
      ]
     },
     "metadata": {
      "needs_background": "light"
     },
     "output_type": "display_data"
    }
   ],
   "source": [
    "label = ['SVM-rbf', 'DT', 'RF-10', 'RF-20', 'ADA-10', 'ADA-30', 'ADA-50', 'ADA-70']\n",
    "result = [svm,dt,rf10,rf20,ada10,ada30,ada50,ada70]\n",
    "\n",
    "def plot_bar_x():\n",
    "    # this is for plotting purpose\n",
    "    index = np.arange(len(label))\n",
    "    plt.bar(index, result)\n",
    "    plt.xlabel('ML Method', fontsize=10)\n",
    "    plt.ylabel('mean error', fontsize=10)\n",
    "    plt.xticks(index, label, fontsize=9, rotation=30)\n",
    "    #plt.ylim([65, 80])\n",
    "    plt.title('mean error of the redshift in galaxies using ML methods')\n",
    "    plt.show()\n",
    "    \n",
    "plot_bar_x()"
   ]
  },
  {
   "cell_type": "code",
   "execution_count": 35,
   "metadata": {},
   "outputs": [],
   "source": [
    "def makeTable(headerRow,columnizedData,columnSpacing=2):\n",
    "    \"\"\"Creates a technical paper style, left justified table\n",
    "\n",
    "    Author: Christopher Collett\n",
    "    Date: 6/1/2019\"\"\"\n",
    "    from numpy import array,max,vectorize\n",
    "\n",
    "    cols = array(columnizedData,dtype=str)\n",
    "    colSizes = [max(vectorize(len)(col)) for col in cols]\n",
    "\n",
    "    header = ''\n",
    "    rows = ['' for i in cols[0]]\n",
    "\n",
    "    for i in range(0,len(headerRow)):\n",
    "        if len(headerRow[i]) > colSizes[i]: colSizes[i]=len(headerRow[i])\n",
    "        headerRow[i]+=' '*(colSizes[i]-len(headerRow[i]))\n",
    "        header+=headerRow[i]\n",
    "        if not i == len(headerRow)-1: header+=' '*columnSpacing\n",
    "\n",
    "        for j in range(0,len(cols[i])):\n",
    "            if len(cols[i][j]) < colSizes[i]:\n",
    "                cols[i][j]+=' '*(colSizes[i]-len(cols[i][j])+columnSpacing)\n",
    "            rows[j]+=cols[i][j]\n",
    "            if not i == len(headerRow)-1: rows[j]+=' '*columnSpacing\n",
    "\n",
    "    line = '-'*len(header)\n",
    "    print(line)\n",
    "    print(header)\n",
    "    print(line)\n",
    "    for row in rows: print(row)\n",
    "    print(line)"
   ]
  },
  {
   "cell_type": "code",
   "execution_count": 36,
   "metadata": {
    "scrolled": false
   },
   "outputs": [
    {
     "name": "stdout",
     "output_type": "stream",
     "text": [
      "---------------------\n",
      "ML Method  Mean Error\n",
      "---------------------\n",
      "SVM-rbf  0.0291 \n",
      "DT       0.0215 \n",
      "RF-10    0.0180 \n",
      "RF-20    0.0176 \n",
      "ADA-10   0.0895 \n",
      "ADA-30   0.0373 \n",
      "ADA-50   0.0350 \n",
      "ADA-70   0.0330 \n",
      "---------------------\n"
     ]
    }
   ],
   "source": [
    "header = ['ML Method','Mean Error']\n",
    "label = [ 'SVM-rbf', 'DT', 'RF-10', 'RF-20', 'ADA-10', 'ADA-30', 'ADA-50', 'ADA-70']\n",
    "result = ['%.4f'%svm,'%.4f'%dt,'%.4f'%rf10,'%.4f'%rf20,'%.4f'%ada10,'%.4f'%ada30,'%.4f'%ada50,'%.4f'%ada70]\n",
    "\n",
    "makeTable(header,[label,result])"
   ]
  },
  {
   "cell_type": "markdown",
   "metadata": {},
   "source": [
    "Algunas gráficas..."
   ]
  },
  {
   "cell_type": "code",
   "execution_count": 37,
   "metadata": {},
   "outputs": [
    {
     "data": {
      "image/png": "[encoded data removed]",
      "text/plain": [
       "<Figure size 432x288 with 2 Axes>"
      ]
     },
     "metadata": {
      "needs_background": "light"
     },
     "output_type": "display_data"
    }
   ],
   "source": [
    "# Complete the following to make the plot\n",
    "data = np.load('sdss_galaxy_colors.npy')\n",
    "# Get a colour map\n",
    "cmap = plt.get_cmap('Reds')\n",
    "\n",
    "# Define our colour indexes u-g and r-i\n",
    "u_g = data['u'] - data['g']\n",
    "r_i = data['r'] - data['i']\n",
    "\n",
    "# Make a redshift array\n",
    "redshift = data['redshift']\n",
    "\n",
    "# Create the plot with plt.scatter\n",
    "plot = plt.scatter(u_g, r_i, s=0.5, lw=0, c=redshift, cmap=cmap)\n",
    "\n",
    "cb = plt.colorbar(plot)\n",
    "cb.set_label('Redshift')\n",
    "\n",
    "# Define your axis labels and plot title\n",
    "plt.xlabel('Colour index  u-g')\n",
    "plt.ylabel('Colour index  r-i')\n",
    "plt.title('Redshift (colour) u-g versus r-i')\n",
    "\n",
    "# Set any axis limits\n",
    "plt.xlim(-0.5, 2.5)\n",
    "plt.ylim(-0.5, 1)\n",
    "\n",
    "plt.show()"
   ]
  },
  {
   "cell_type": "code",
   "execution_count": null,
   "metadata": {},
   "outputs": [],
   "source": []
  }
 ],
 "metadata": {
  "kernelspec": {
   "display_name": "Python 3",
   "language": "python",
   "name": "python3"
  },
  "language_info": {
   "codemirror_mode": {
    "name": "ipython",
    "version": 3
   },
   "file_extension": ".py",
   "mimetype": "text/x-python",
   "name": "python",
   "nbconvert_exporter": "python",
   "pygments_lexer": "ipython3",
   "version": "3.7.4"
  }
 },
 "nbformat": 4,
 "nbformat_minor": 2
}
